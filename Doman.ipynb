{
 "cells": [
  {
   "cell_type": "code",
   "execution_count": 1,
   "metadata": {},
   "outputs": [],
   "source": [
    "import seaborn as sns\n",
    "import matplotlib.pyplot as plt\n",
    "import pandas as pd\n",
    "import numpy as np\n",
    "import math\n",
    "import os\n",
    "import time\n",
    "%matplotlib notebook"
   ]
  },
  {
   "cell_type": "code",
   "execution_count": 2,
   "metadata": {
    "collapsed": true
   },
   "outputs": [],
   "source": [
    "min_distance = 0.6\n",
    "dot_size = 50\n",
    "dispersion = 6\n",
    "DOT_ABS_MAX = 9\n",
    "chart_abs_max = 10"
   ]
  },
  {
   "cell_type": "code",
   "execution_count": 3,
   "metadata": {
    "collapsed": true
   },
   "outputs": [],
   "source": [
    "def distance_between_points(a, b):\n",
    "    x_dist = a[0] - b[0]\n",
    "    y_dist = a[1] - b[1]\n",
    "    return math.sqrt((x_dist ** 2) + (y_dist ** 2))\n",
    "\n",
    "def overlaps(a, b):\n",
    "    return distance_between_points(a, b) < min_distance\n",
    "\n",
    "def overlaps_any(proposed_dot, dots):\n",
    "    for dot in dots:\n",
    "        if overlaps(dot, proposed_dot):\n",
    "            return True\n",
    "    return False\n",
    "\n",
    "def outside_range(dot):\n",
    "    return max(abs(dot[0]), abs(dot[1])) > DOT_ABS_MAX"
   ]
  },
  {
   "cell_type": "code",
   "execution_count": 4,
   "metadata": {
    "collapsed": true
   },
   "outputs": [],
   "source": [
    "def generate_dots(dots_wanted):\n",
    "    dots = []\n",
    "    while len(dots) < dots_wanted:\n",
    "        proposed_dot = [np.random.normal(0) * math.log(len(dots) + 1, dispersion) for i in range(2)]\n",
    "        if overlaps_any(proposed_dot, dots) or outside_range(proposed_dot):\n",
    "            continue\n",
    "        else:\n",
    "            dots.append(proposed_dot)\n",
    "    return dots"
   ]
  },
  {
   "cell_type": "code",
   "execution_count": 5,
   "metadata": {
    "collapsed": true
   },
   "outputs": [],
   "source": [
    "def generate_dots_df(dots_wanted):\n",
    "    return pd.DataFrame(generate_dots(dots_wanted), columns = ['x', 'y'])"
   ]
  },
  {
   "cell_type": "code",
   "execution_count": 76,
   "metadata": {
    "collapsed": true
   },
   "outputs": [],
   "source": [
    "def draw_dots(dots_wanted):\n",
    "    ax = sns.scatterplot(\n",
    "        x='x',\n",
    "        y='y',\n",
    "        data=generate_dots_df(dots_wanted),\n",
    "        s=dot_size\n",
    "    )\n",
    "    return ax"
   ]
  },
  {
   "cell_type": "code",
   "execution_count": 108,
   "metadata": {},
   "outputs": [
    {
     "data": {
      "text/plain": [
       "0"
      ]
     },
     "execution_count": 108,
     "metadata": {},
     "output_type": "execute_result"
    },
    {
     "data": {
      "image/png": "[encoded data removed]",
      "text/plain": [
       "<Figure size 432x288 with 1 Axes>"
      ]
     },
     "metadata": {},
     "output_type": "display_data"
    }
   ],
   "source": [
    "num_dots = np.random.randint(17) + 1\n",
    "ax = draw_dots(num_dots)\n",
    "ax.set_xlim(-chart_abs_max, chart_abs_max)\n",
    "ax.set_ylim(-chart_abs_max, chart_abs_max)\n",
    "ax.xaxis.set_ticks([])\n",
    "ax.yaxis.set_ticks([])\n",
    "os.system(\"spd-say -r -30 -t child_male -y english '{}'\".format(num_dots))\n"
   ]
  },
  {
   "cell_type": "code",
   "execution_count": null,
   "metadata": {
    "collapsed": true
   },
   "outputs": [],
   "source": []
  },
  {
   "cell_type": "code",
   "execution_count": null,
   "metadata": {
    "collapsed": true
   },
   "outputs": [],
   "source": []
  }
 ],
 "metadata": {
  "kernelspec": {
   "display_name": "Python (py37)",
   "language": "python",
   "name": "py37"
  },
  "language_info": {
   "codemirror_mode": {
    "name": "ipython",
    "version": 3
   },
   "file_extension": ".py",
   "mimetype": "text/x-python",
   "name": "python",
   "nbconvert_exporter": "python",
   "pygments_lexer": "ipython3",
   "version": "3.7.1"
  }
 },
 "nbformat": 4,
 "nbformat_minor": 2
}
